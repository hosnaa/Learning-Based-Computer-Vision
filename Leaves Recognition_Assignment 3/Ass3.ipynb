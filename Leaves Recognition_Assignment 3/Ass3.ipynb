{
 "cells": [
  {
   "cell_type": "markdown",
   "id": "1c3287f5",
   "metadata": {},
   "source": [
    "# 1. Install dependencies and libraries"
   ]
  },
  {
   "cell_type": "code",
   "execution_count": 142,
   "id": "85bbb23d",
   "metadata": {},
   "outputs": [],
   "source": [
    "import os\n",
    "import numpy as np\n",
    "from skimage import io\n",
    "from skimage.color import gray2rgb\n",
    "import skimage.transform\n",
    "import tensorflow as tf\n",
    "import tensorflow.keras\n",
    "from tensorflow.keras.models import Model\n",
    "from tensorflow.keras.layers import Dense, Flatten, Conv2D, MaxPooling2D, BatchNormalization, Dropout\n",
    "from tensorflow.keras.applications import VGG16\n",
    "from tensorflow.keras.models import Model\n",
    "from sklearn.model_selection import train_test_split\n",
    "from sklearn.metrics import confusion_matrix, plot_confusion_matrix\n",
    "from sklearn.metrics import ConfusionMatrixDisplay\n",
    "import matplotlib.pyplot as plt\n",
    "from sklearn.metrics import mean_squared_error\n",
    "from keras.preprocessing.image import ImageDataGenerator\n",
    "import math\n",
    "from sklearn.metrics import accuracy_score"
   ]
  },
  {
   "cell_type": "markdown",
   "id": "004fa9e9",
   "metadata": {},
   "source": [
    "# 2. Load Images\n",
    "## 2.1. Load image directories into numpy arrays"
   ]
  },
  {
   "cell_type": "code",
   "execution_count": 143,
   "id": "be7f3735",
   "metadata": {},
   "outputs": [],
   "source": [
    "## file_num: based on the name of folder; this number might change where we take from after it the name of files\n",
    "\n",
    "def load_images(file_num, folder_name):\n",
    "    dict_img = {}\n",
    "    for root, _, files in os.walk(folder_name, topdown=False):\n",
    "    #     print(root[9])\n",
    "        dict_img[root[file_num:]] = np.array([root+ '\\\\' + i for i in files])\n",
    "    leaf1 = dict_img.get('1')\n",
    "    leaf2 = dict_img.get('2')\n",
    "    leaf3 = dict_img.get('3')\n",
    "    leaf4 = dict_img.get('4')\n",
    "    leaf6 = dict_img.get('6')\n",
    "    args = (leaf1, leaf2, leaf3, leaf4, leaf6)\n",
    "    all_arr = np.concatenate(args)\n",
    "    \n",
    "    return all_arr"
   ]
  },
  {
   "cell_type": "code",
   "execution_count": null,
   "id": "aa814e79",
   "metadata": {},
   "outputs": [],
   "source": []
  },
  {
   "cell_type": "markdown",
   "id": "d1884e4d",
   "metadata": {},
   "source": [
    "### 2.2. Construct labels"
   ]
  },
  {
   "cell_type": "code",
   "execution_count": 144,
   "id": "459d424c",
   "metadata": {},
   "outputs": [],
   "source": [
    "### pass the length directly which is the len(all_arr),,, label: list of the required numbers\n",
    "\n",
    "## Partition: number of files per folder/class to cut on, length: length of training data array, labels: a list for the labels you want \n",
    "def make_label(partition, length, labels):\n",
    "    y = np.zeros(length)\n",
    "    y[0:partition] = labels[0]\n",
    "    y[partition:2*partition] = labels[1]\n",
    "    y[2*partition:3*partition] = labels[2]\n",
    "    y[3*partition:4*partition] = labels[3]\n",
    "    y[4*partition:5*partition] = labels[4]\n",
    "    \n",
    "    return y"
   ]
  },
  {
   "cell_type": "code",
   "execution_count": null,
   "id": "bf848c34",
   "metadata": {},
   "outputs": [],
   "source": []
  },
  {
   "cell_type": "markdown",
   "id": "096afed2",
   "metadata": {},
   "source": [
    "# 3. Reading the images\n",
    "## 3.1. Read and resize images"
   ]
  },
  {
   "cell_type": "code",
   "execution_count": 145,
   "id": "8bf7d824",
   "metadata": {},
   "outputs": [],
   "source": [
    "## size is a number: 64\n",
    "\n",
    "def read_images(all_arr, size):\n",
    "    imgs_resize = []\n",
    "    for i in all_arr:\n",
    "        x = io.imread(i)\n",
    "        imgs_resize.append(skimage.transform.resize(x, (size,size), preserve_range=True))  \n",
    "    return imgs_resize"
   ]
  },
  {
   "cell_type": "markdown",
   "id": "260ad3cc",
   "metadata": {},
   "source": [
    "- We will try learning by resizing the images into 64x64 "
   ]
  },
  {
   "cell_type": "markdown",
   "id": "654e7009",
   "metadata": {},
   "source": [
    "# 4. VGG16 Loading"
   ]
  },
  {
   "cell_type": "code",
   "execution_count": 146,
   "id": "2c3618fd",
   "metadata": {},
   "outputs": [],
   "source": [
    "## the 64 here should map to the 'size' variable\n",
    "vgg_model = VGG16(weights='imagenet',\n",
    "                  include_top=False,\n",
    "                  input_shape=(64, 64, 3))\n",
    "\n",
    "for layer in vgg_model.layers:\n",
    "    layer.trainable = False\n",
    "    \n",
    "# last layers output\n",
    "x_orig = vgg_model.layers[6].output"
   ]
  },
  {
   "cell_type": "markdown",
   "id": "f6326248",
   "metadata": {},
   "source": [
    "## 4.1 VGG16 finetuning (Classification)"
   ]
  },
  {
   "cell_type": "code",
   "execution_count": 147,
   "id": "c872fe64",
   "metadata": {},
   "outputs": [
    {
     "name": "stdout",
     "output_type": "stream",
     "text": [
      "Model: \"model_31\"\n",
      "_________________________________________________________________\n",
      "Layer (type)                 Output Shape              Param #   \n",
      "=================================================================\n",
      "input_3 (InputLayer)         [(None, 64, 64, 3)]       0         \n",
      "_________________________________________________________________\n",
      "block1_conv1 (Conv2D)        (None, 64, 64, 64)        1792      \n",
      "_________________________________________________________________\n",
      "block1_conv2 (Conv2D)        (None, 64, 64, 64)        36928     \n",
      "_________________________________________________________________\n",
      "block1_pool (MaxPooling2D)   (None, 32, 32, 64)        0         \n",
      "_________________________________________________________________\n",
      "block2_conv1 (Conv2D)        (None, 32, 32, 128)       73856     \n",
      "_________________________________________________________________\n",
      "block2_conv2 (Conv2D)        (None, 32, 32, 128)       147584    \n",
      "_________________________________________________________________\n",
      "block2_pool (MaxPooling2D)   (None, 16, 16, 128)       0         \n",
      "_________________________________________________________________\n",
      "flatten_31 (Flatten)         (None, 32768)             0         \n",
      "_________________________________________________________________\n",
      "dense_76 (Dense)             (None, 128)               4194432   \n",
      "_________________________________________________________________\n",
      "dense_77 (Dense)             (None, 5)                 645       \n",
      "=================================================================\n",
      "Total params: 4,455,237\n",
      "Trainable params: 4,195,077\n",
      "Non-trainable params: 260,160\n",
      "_________________________________________________________________\n",
      "None\n"
     ]
    }
   ],
   "source": [
    "### Conv/fully ==> no more than 5,, pool/flatten/1D conv ==> as many\n",
    "x = Flatten()(x_orig)\n",
    "x = Dense(128, activation='relu')(x)\n",
    "# x = Dense(64, activation='sigmoid')(x)\n",
    "x = Dense(5, activation='softmax')(x) ## will be 1 in regression and make the y labels as usual [1, 2, 3, 4, 6]\n",
    "\n",
    "vgg_model_transfer = Model(inputs=vgg_model.input, outputs=x)\n",
    "print(vgg_model_transfer.summary())"
   ]
  },
  {
   "cell_type": "markdown",
   "id": "b47de355",
   "metadata": {},
   "source": [
    "## 4.2. Fit the model"
   ]
  },
  {
   "cell_type": "markdown",
   "id": "fdf56b55",
   "metadata": {},
   "source": [
    "### 4.2.1. Load the data\n",
    "#### 4.2.1.1. Train data"
   ]
  },
  {
   "cell_type": "code",
   "execution_count": 148,
   "id": "97d5d316",
   "metadata": {},
   "outputs": [],
   "source": [
    "all_arr = load_images(9, \"training\")\n",
    "y = make_label(180, len(all_arr), [0, 1, 2, 3, 4])\n",
    "imgs_resize = read_images(all_arr, 64)"
   ]
  },
  {
   "cell_type": "markdown",
   "id": "e7562947",
   "metadata": {},
   "source": [
    "#### 4.2.1.2. Test data"
   ]
  },
  {
   "cell_type": "code",
   "execution_count": 149,
   "id": "f5f35549",
   "metadata": {},
   "outputs": [],
   "source": [
    "all_arr_test = load_images(-1, \"testing\")\n",
    "y_t = make_label(20, len(all_arr_test), [0, 1, 2, 3, 4])\n",
    "imgs_resize_test = read_images(all_arr_test, 64)\n",
    "imgs_resize_test = np.array(imgs_resize_test)"
   ]
  },
  {
   "cell_type": "markdown",
   "id": "1446f417",
   "metadata": {},
   "source": [
    "### 4.2.2. Split the data"
   ]
  },
  {
   "cell_type": "code",
   "execution_count": 150,
   "id": "35edcd5a",
   "metadata": {},
   "outputs": [
    {
     "name": "stdout",
     "output_type": "stream",
     "text": [
      "Training data shape:  (630, 64, 64, 3)  Unique data in Y:  [0. 1. 2. 3. 4.]\n"
     ]
    }
   ],
   "source": [
    "X_train, X_valid, y_train, y_valid = train_test_split(imgs_resize, y, test_size=0.3, random_state=30)\n",
    "X_train = np.array(X_train)\n",
    "X_valid = np.array(X_valid)\n",
    "print('Training data shape: ',X_train.shape, ' Unique data in Y: ',np.unique(y_train))"
   ]
  },
  {
   "cell_type": "markdown",
   "id": "57ad2f2a",
   "metadata": {},
   "source": [
    "### 4.2.3. Hyperparameters"
   ]
  },
  {
   "cell_type": "code",
   "execution_count": 151,
   "id": "4cf641e0",
   "metadata": {},
   "outputs": [],
   "source": [
    "batchSize = 16\n",
    "nEpochs = 30\n",
    "sgd = tensorflow.keras.optimizers.SGD(learning_rate=0.000001)"
   ]
  },
  {
   "cell_type": "markdown",
   "id": "84d30d74",
   "metadata": {},
   "source": [
    "### 4.2.4. Model compile and fit"
   ]
  },
  {
   "cell_type": "code",
   "execution_count": 154,
   "id": "2d5a6980",
   "metadata": {
    "scrolled": true
   },
   "outputs": [
    {
     "name": "stdout",
     "output_type": "stream",
     "text": [
      "Epoch 1/30\n",
      "40/40 [==============================] - 7s 175ms/step - loss: 13.2355 - accuracy: 0.3873 - val_loss: 36.3040 - val_accuracy: 0.2444\n",
      "Epoch 2/30\n",
      "40/40 [==============================] - 7s 186ms/step - loss: 5.8559 - accuracy: 0.4286 - val_loss: 31.6930 - val_accuracy: 0.2370\n",
      "Epoch 3/30\n",
      "40/40 [==============================] - 8s 209ms/step - loss: 3.5910 - accuracy: 0.4524 - val_loss: 30.5906 - val_accuracy: 0.2444\n",
      "Epoch 4/30\n",
      "40/40 [==============================] - 10s 241ms/step - loss: 2.4323 - accuracy: 0.4683 - val_loss: 28.6078 - val_accuracy: 0.2370\n",
      "Epoch 5/30\n",
      "40/40 [==============================] - 9s 216ms/step - loss: 1.9211 - accuracy: 0.4841 - val_loss: 28.7563 - val_accuracy: 0.2481\n",
      "Epoch 6/30\n",
      "40/40 [==============================] - 8s 210ms/step - loss: 1.5501 - accuracy: 0.4968 - val_loss: 28.4618 - val_accuracy: 0.2481\n",
      "Epoch 7/30\n",
      "40/40 [==============================] - 7s 187ms/step - loss: 1.4686 - accuracy: 0.4952 - val_loss: 28.1783 - val_accuracy: 0.2444\n",
      "Epoch 8/30\n",
      "40/40 [==============================] - 7s 186ms/step - loss: 1.3777 - accuracy: 0.4968 - val_loss: 27.6934 - val_accuracy: 0.2481\n",
      "Epoch 9/30\n",
      "40/40 [==============================] - 8s 189ms/step - loss: 1.2619 - accuracy: 0.5016 - val_loss: 27.6282 - val_accuracy: 0.2370\n",
      "Epoch 10/30\n",
      "40/40 [==============================] - 7s 186ms/step - loss: 1.1360 - accuracy: 0.4984 - val_loss: 27.3931 - val_accuracy: 0.2296\n",
      "Epoch 11/30\n",
      "40/40 [==============================] - 7s 170ms/step - loss: 1.1656 - accuracy: 0.5016 - val_loss: 27.8593 - val_accuracy: 0.2296\n",
      "Epoch 12/30\n",
      "40/40 [==============================] - 7s 171ms/step - loss: 1.1318 - accuracy: 0.5032 - val_loss: 27.5674 - val_accuracy: 0.2333\n",
      "Epoch 13/30\n",
      "40/40 [==============================] - 7s 171ms/step - loss: 1.0876 - accuracy: 0.5048 - val_loss: 27.4635 - val_accuracy: 0.2296\n",
      "Epoch 14/30\n",
      "40/40 [==============================] - 7s 171ms/step - loss: 1.0615 - accuracy: 0.5032 - val_loss: 27.5157 - val_accuracy: 0.2333\n",
      "Epoch 15/30\n",
      "40/40 [==============================] - 7s 173ms/step - loss: 1.0842 - accuracy: 0.5063 - val_loss: 27.4078 - val_accuracy: 0.2296\n",
      "Epoch 16/30\n",
      "40/40 [==============================] - 7s 182ms/step - loss: 1.0634 - accuracy: 0.5048 - val_loss: 27.8739 - val_accuracy: 0.2296\n",
      "Epoch 17/30\n",
      "40/40 [==============================] - 7s 179ms/step - loss: 1.0514 - accuracy: 0.5048 - val_loss: 27.7050 - val_accuracy: 0.2296\n",
      "Epoch 18/30\n",
      "40/40 [==============================] - 7s 176ms/step - loss: 1.0504 - accuracy: 0.5063 - val_loss: 27.4459 - val_accuracy: 0.2333\n",
      "Epoch 19/30\n",
      "40/40 [==============================] - 7s 177ms/step - loss: 1.0354 - accuracy: 0.5079 - val_loss: 27.3709 - val_accuracy: 0.2296\n",
      "Epoch 20/30\n",
      "40/40 [==============================] - 7s 177ms/step - loss: 1.0259 - accuracy: 0.5048 - val_loss: 27.2941 - val_accuracy: 0.2296\n",
      "Epoch 21/30\n",
      "40/40 [==============================] - 7s 176ms/step - loss: 1.0286 - accuracy: 0.5063 - val_loss: 27.3119 - val_accuracy: 0.2296\n",
      "Epoch 22/30\n",
      "40/40 [==============================] - 7s 179ms/step - loss: 1.0215 - accuracy: 0.5063 - val_loss: 27.3384 - val_accuracy: 0.2296\n",
      "Epoch 23/30\n",
      "40/40 [==============================] - 8s 194ms/step - loss: 1.0225 - accuracy: 0.5063 - val_loss: 27.2517 - val_accuracy: 0.2296\n",
      "Epoch 24/30\n",
      "40/40 [==============================] - 7s 180ms/step - loss: 1.0158 - accuracy: 0.5079 - val_loss: 27.2105 - val_accuracy: 0.2296\n",
      "Epoch 25/30\n",
      "40/40 [==============================] - 7s 177ms/step - loss: 1.0142 - accuracy: 0.5063 - val_loss: 27.2216 - val_accuracy: 0.2296\n",
      "Epoch 26/30\n",
      "40/40 [==============================] - 7s 175ms/step - loss: 1.0105 - accuracy: 0.5079 - val_loss: 27.2441 - val_accuracy: 0.2296\n",
      "Epoch 27/30\n",
      "40/40 [==============================] - 7s 175ms/step - loss: 1.0067 - accuracy: 0.5063 - val_loss: 27.4819 - val_accuracy: 0.2370\n",
      "Epoch 28/30\n",
      "40/40 [==============================] - 7s 176ms/step - loss: 1.0116 - accuracy: 0.5063 - val_loss: 27.4368 - val_accuracy: 0.2333\n",
      "Epoch 29/30\n",
      "40/40 [==============================] - 7s 175ms/step - loss: 1.0066 - accuracy: 0.5048 - val_loss: 27.3994 - val_accuracy: 0.2333\n",
      "Epoch 30/30\n",
      "40/40 [==============================] - 7s 178ms/step - loss: 1.0077 - accuracy: 0.5063 - val_loss: 27.3232 - val_accuracy: 0.2333\n"
     ]
    }
   ],
   "source": [
    "vgg_model_transfer.compile(loss='sparse_categorical_crossentropy', \n",
    "                           optimizer=sgd, \n",
    "                           metrics=['accuracy'])\n",
    "\n",
    "\n",
    "history = vgg_model_transfer.fit(X_train, y_train, batch_size=batchSize, epochs=nEpochs, verbose=1, \n",
    "                                 validation_data=(X_valid, y_valid))"
   ]
  },
  {
   "cell_type": "markdown",
   "id": "a7569d82",
   "metadata": {},
   "source": [
    "#### Common Errors in the Model\n",
    "- `Data cardinality is ambiguous` error, Solution: If the x or y are lists convert then to numpy arrays\n",
    "- `Value Error: user code` error, Solution: Instead of loss (categorical_crossentropy) make it (Sparse_categorical_crossentropy)\n",
    "- `Another Error about indices` error, Solution: Change the labels from [1, 2, 3, 4, 6] into [0, 1, 2, 3, 4]\n",
    "- Very high loss at the beginning, Solution: Stop and Re-run the cell again"
   ]
  },
  {
   "cell_type": "markdown",
   "id": "18090276",
   "metadata": {},
   "source": [
    "## 4.3. Learning curves\n",
    "- https://machinelearningmastery.com/display-deep-learning-model-training-history-in-keras/"
   ]
  },
  {
   "cell_type": "code",
   "execution_count": 155,
   "id": "ae3c4fd5",
   "metadata": {},
   "outputs": [],
   "source": [
    "def learn_curve_accuracy(history):\n",
    "    # summarize history for accuracy\n",
    "    plt.plot(history.history['accuracy'])\n",
    "    plt.plot(history.history['val_accuracy'])\n",
    "    plt.title('model accuracy')\n",
    "    plt.ylabel('accuracy')\n",
    "    plt.xlabel('epoch')\n",
    "    plt.legend(['train', 'validation'], loc='upper left')\n",
    "    plt.show()\n",
    "\n",
    "def learn_curve_loss(history):\n",
    "    # summarize history for loss\n",
    "    plt.plot(history.history['loss'])\n",
    "    plt.plot(history.history['val_loss'])\n",
    "    plt.title('model loss')\n",
    "    plt.ylabel('loss')\n",
    "    plt.xlabel('epoch')\n",
    "    plt.legend(['train', 'validation'], loc='upper left')\n",
    "    plt.show()    "
   ]
  },
  {
   "cell_type": "code",
   "execution_count": 156,
   "id": "0b411abf",
   "metadata": {},
   "outputs": [
    {
     "data": {
      "image/png": "[encoded data removed]",
      "text/plain": [
       "<Figure size 432x288 with 1 Axes>"
      ]
     },
     "metadata": {
      "needs_background": "light"
     },
     "output_type": "display_data"
    },
    {
     "data": {
      "image/png": "[encoded data removed]",
      "text/plain": [
       "<Figure size 432x288 with 1 Axes>"
      ]
     },
     "metadata": {
      "needs_background": "light"
     },
     "output_type": "display_data"
    }
   ],
   "source": [
    "learn_curve_accuracy(history)\n",
    "learn_curve_loss(history)"
   ]
  },
  {
   "cell_type": "markdown",
   "id": "f60ba526",
   "metadata": {},
   "source": [
    "## 4.4. Confusion Matrix"
   ]
  },
  {
   "cell_type": "code",
   "execution_count": 157,
   "id": "fe2502d0",
   "metadata": {},
   "outputs": [],
   "source": [
    "def plot_confusion(cm, display_labels):\n",
    "    disp = ConfusionMatrixDisplay(confusion_matrix=cm,\n",
    "                                  display_labels=display_labels)\n",
    "    disp = disp.plot()\n",
    "    plt.show()"
   ]
  },
  {
   "cell_type": "markdown",
   "id": "ba0f8f94",
   "metadata": {},
   "source": [
    "#### 4.4.1. For train data"
   ]
  },
  {
   "cell_type": "code",
   "execution_count": 158,
   "id": "b91652fa",
   "metadata": {},
   "outputs": [
    {
     "data": {
      "image/png": "[encoded data removed]",
      "text/plain": [
       "<Figure size 432x288 with 2 Axes>"
      ]
     },
     "metadata": {
      "needs_background": "light"
     },
     "output_type": "display_data"
    }
   ],
   "source": [
    "display_labels = [0, 1, 2, 3, 4]\n",
    "y_pred_tr = np.argmax(vgg_model_transfer.predict(X_train), axis = 1)\n",
    "cm1_tr = confusion_matrix(y_train, y_pred_tr)\n",
    "plot_confusion(cm1_tr, display_labels)"
   ]
  },
  {
   "cell_type": "markdown",
   "id": "cef91c71",
   "metadata": {},
   "source": [
    "#### 4.4.2. For validation data"
   ]
  },
  {
   "cell_type": "code",
   "execution_count": 159,
   "id": "7ef7bd49",
   "metadata": {},
   "outputs": [
    {
     "data": {
      "image/png": "[encoded data removed]",
      "text/plain": [
       "<Figure size 432x288 with 2 Axes>"
      ]
     },
     "metadata": {
      "needs_background": "light"
     },
     "output_type": "display_data"
    }
   ],
   "source": [
    "y_pred_v = np.argmax(vgg_model_transfer.predict(X_valid), axis = 1)\n",
    "cm1_v = confusion_matrix(y_valid, y_pred_v)\n",
    "plot_confusion(cm1_v, display_labels)"
   ]
  },
  {
   "cell_type": "markdown",
   "id": "3df02ec5",
   "metadata": {},
   "source": [
    "#### 4.4.3. For test data"
   ]
  },
  {
   "cell_type": "code",
   "execution_count": 160,
   "id": "4cb952f8",
   "metadata": {},
   "outputs": [
    {
     "data": {
      "image/png": "[encoded data removed]",
      "text/plain": [
       "<Figure size 432x288 with 2 Axes>"
      ]
     },
     "metadata": {
      "needs_background": "light"
     },
     "output_type": "display_data"
    }
   ],
   "source": [
    "y_pred_t = np.argmax(vgg_model_transfer.predict(imgs_resize_test), axis = 1)\n",
    "cm1_t = confusion_matrix(y_t, y_pred_t)\n",
    "plot_confusion(cm1_t, display_labels)"
   ]
  },
  {
   "cell_type": "markdown",
   "id": "c2051881",
   "metadata": {},
   "source": [
    "- We can see from the confusion matrices that the model memorizes the training data but has a great bias towards class 4 that refers to class 6 (6 leaves). This bias is also apparent in the other sets, nevertheless, we can see that the diagonal of the validation and test sets has very low values unlike the training set"
   ]
  },
  {
   "cell_type": "markdown",
   "id": "8a0b15bd",
   "metadata": {},
   "source": [
    "## 4.5 VGG16 finetuning (Regression)"
   ]
  },
  {
   "cell_type": "markdown",
   "id": "ffb05e51",
   "metadata": {},
   "source": [
    "### 4.5.1. labels for regression"
   ]
  },
  {
   "cell_type": "code",
   "execution_count": 161,
   "id": "c49e3421",
   "metadata": {},
   "outputs": [],
   "source": [
    "y_reg = make_label(180, len(all_arr), [1, 2, 3, 4, 6])"
   ]
  },
  {
   "cell_type": "markdown",
   "id": "30c0b25e",
   "metadata": {},
   "source": [
    "### 4.5.2. Split the data"
   ]
  },
  {
   "cell_type": "code",
   "execution_count": 162,
   "id": "32fca0e8",
   "metadata": {},
   "outputs": [],
   "source": [
    "X_train_reg, X_valid_reg, y_train_reg, y_valid_reg = train_test_split(imgs_resize, y_reg, test_size=0.3, random_state=30)\n",
    "X_train_reg = np.array(X_train_reg)\n",
    "X_valid_reg = np.array(X_valid_reg)"
   ]
  },
  {
   "cell_type": "markdown",
   "id": "4847f698",
   "metadata": {},
   "source": [
    "### 4.5.3. Finetuning"
   ]
  },
  {
   "cell_type": "code",
   "execution_count": 163,
   "id": "9a1483ae",
   "metadata": {},
   "outputs": [
    {
     "name": "stdout",
     "output_type": "stream",
     "text": [
      "Model: \"model_32\"\n",
      "_________________________________________________________________\n",
      "Layer (type)                 Output Shape              Param #   \n",
      "=================================================================\n",
      "input_3 (InputLayer)         [(None, 64, 64, 3)]       0         \n",
      "_________________________________________________________________\n",
      "block1_conv1 (Conv2D)        (None, 64, 64, 64)        1792      \n",
      "_________________________________________________________________\n",
      "block1_conv2 (Conv2D)        (None, 64, 64, 64)        36928     \n",
      "_________________________________________________________________\n",
      "block1_pool (MaxPooling2D)   (None, 32, 32, 64)        0         \n",
      "_________________________________________________________________\n",
      "block2_conv1 (Conv2D)        (None, 32, 32, 128)       73856     \n",
      "_________________________________________________________________\n",
      "block2_conv2 (Conv2D)        (None, 32, 32, 128)       147584    \n",
      "_________________________________________________________________\n",
      "block2_pool (MaxPooling2D)   (None, 16, 16, 128)       0         \n",
      "_________________________________________________________________\n",
      "flatten_32 (Flatten)         (None, 32768)             0         \n",
      "_________________________________________________________________\n",
      "dense_78 (Dense)             (None, 128)               4194432   \n",
      "_________________________________________________________________\n",
      "dense_79 (Dense)             (None, 64)                8256      \n",
      "_________________________________________________________________\n",
      "dense_80 (Dense)             (None, 1)                 65        \n",
      "=================================================================\n",
      "Total params: 4,462,913\n",
      "Trainable params: 4,202,753\n",
      "Non-trainable params: 260,160\n",
      "_________________________________________________________________\n",
      "None\n"
     ]
    }
   ],
   "source": [
    "### Conv/fully ==> no more than 5,, pool/flatten/1D conv ==> as many\n",
    "x = Flatten()(x_orig)\n",
    "x = Dense(128, activation='relu')(x)\n",
    "x = Dense(64, activation='sigmoid')(x)\n",
    "x = Dense(1, activation='relu6')(x) ## will be 1 in regression and make the y labels as usual [1, 2, 3, 4, 6]\n",
    "\n",
    "vgg_model_transfer_reg = Model(inputs=vgg_model.input, outputs=x)\n",
    "print(vgg_model_transfer_reg.summary())"
   ]
  },
  {
   "cell_type": "code",
   "execution_count": 164,
   "id": "ba56132a",
   "metadata": {
    "scrolled": true
   },
   "outputs": [
    {
     "name": "stdout",
     "output_type": "stream",
     "text": [
      "Epoch 1/30\n",
      "40/40 [==============================] - 8s 201ms/step - loss: 5.9243 - accuracy: 0.1841 - mse: 5.9243 - val_loss: 5.0257 - val_accuracy: 0.2111 - val_mse: 5.0257\n",
      "Epoch 2/30\n",
      "40/40 [==============================] - 7s 176ms/step - loss: 4.8698 - accuracy: 0.1937 - mse: 4.8698 - val_loss: 4.2094 - val_accuracy: 0.2111 - val_mse: 4.2094\n",
      "Epoch 3/30\n",
      "40/40 [==============================] - 7s 184ms/step - loss: 4.0759 - accuracy: 0.1937 - mse: 4.0759 - val_loss: 3.6925 - val_accuracy: 0.2111 - val_mse: 3.6925\n",
      "Epoch 4/30\n",
      "40/40 [==============================] - 6s 162ms/step - loss: 3.6396 - accuracy: 0.1937 - mse: 3.6396 - val_loss: 3.2822 - val_accuracy: 0.2111 - val_mse: 3.2822\n",
      "Epoch 5/30\n",
      "40/40 [==============================] - 7s 179ms/step - loss: 3.4257 - accuracy: 0.1937 - mse: 3.4257 - val_loss: 3.1723 - val_accuracy: 0.2111 - val_mse: 3.1723\n",
      "Epoch 6/30\n",
      "40/40 [==============================] - 7s 179ms/step - loss: 3.3445 - accuracy: 0.1937 - mse: 3.3445 - val_loss: 3.0879 - val_accuracy: 0.2111 - val_mse: 3.0879\n",
      "Epoch 7/30\n",
      "40/40 [==============================] - 7s 178ms/step - loss: 3.3049 - accuracy: 0.1937 - mse: 3.3049 - val_loss: 3.0885 - val_accuracy: 0.2111 - val_mse: 3.0885\n",
      "Epoch 8/30\n",
      "40/40 [==============================] - 7s 186ms/step - loss: 3.2540 - accuracy: 0.1937 - mse: 3.2540 - val_loss: 3.0963 - val_accuracy: 0.2111 - val_mse: 3.0963\n",
      "Epoch 9/30\n",
      "40/40 [==============================] - 8s 194ms/step - loss: 3.1409 - accuracy: 0.1937 - mse: 3.1409 - val_loss: 2.9385 - val_accuracy: 0.2111 - val_mse: 2.9385\n",
      "Epoch 10/30\n",
      "40/40 [==============================] - 7s 186ms/step - loss: 3.0732 - accuracy: 0.1937 - mse: 3.0732 - val_loss: 3.0150 - val_accuracy: 0.2111 - val_mse: 3.0150\n",
      "Epoch 11/30\n",
      "40/40 [==============================] - 7s 187ms/step - loss: 3.0158 - accuracy: 0.1937 - mse: 3.0158 - val_loss: 2.9714 - val_accuracy: 0.2111 - val_mse: 2.9714\n",
      "Epoch 12/30\n",
      "40/40 [==============================] - 7s 186ms/step - loss: 3.0293 - accuracy: 0.1937 - mse: 3.0293 - val_loss: 2.9945 - val_accuracy: 0.2111 - val_mse: 2.9945\n",
      "Epoch 13/30\n",
      "40/40 [==============================] - 7s 185ms/step - loss: 3.0253 - accuracy: 0.1937 - mse: 3.0253 - val_loss: 2.9749 - val_accuracy: 0.2111 - val_mse: 2.9749\n",
      "Epoch 14/30\n",
      "40/40 [==============================] - 8s 212ms/step - loss: 2.9670 - accuracy: 0.1937 - mse: 2.9670 - val_loss: 2.9542 - val_accuracy: 0.2111 - val_mse: 2.9542\n",
      "Epoch 15/30\n",
      "40/40 [==============================] - 8s 198ms/step - loss: 2.9540 - accuracy: 0.1937 - mse: 2.9540 - val_loss: 2.9282 - val_accuracy: 0.2111 - val_mse: 2.9282\n",
      "Epoch 16/30\n",
      "40/40 [==============================] - 8s 194ms/step - loss: 2.9199 - accuracy: 0.1952 - mse: 2.9199 - val_loss: 2.9277 - val_accuracy: 0.2111 - val_mse: 2.9277\n",
      "Epoch 17/30\n",
      "40/40 [==============================] - 7s 187ms/step - loss: 2.8683 - accuracy: 0.1937 - mse: 2.8683 - val_loss: 2.9198 - val_accuracy: 0.2111 - val_mse: 2.9198\n",
      "Epoch 18/30\n",
      "40/40 [==============================] - 10s 249ms/step - loss: 2.8899 - accuracy: 0.1952 - mse: 2.8899 - val_loss: 2.8597 - val_accuracy: 0.2111 - val_mse: 2.8597\n",
      "Epoch 19/30\n",
      "40/40 [==============================] - 10s 245ms/step - loss: 2.8772 - accuracy: 0.1952 - mse: 2.8772 - val_loss: 2.9154 - val_accuracy: 0.2111 - val_mse: 2.9154\n",
      "Epoch 20/30\n",
      "40/40 [==============================] - 8s 200ms/step - loss: 2.8524 - accuracy: 0.1952 - mse: 2.8524 - val_loss: 2.8984 - val_accuracy: 0.2111 - val_mse: 2.8984\n",
      "Epoch 21/30\n",
      "40/40 [==============================] - 7s 186ms/step - loss: 2.8397 - accuracy: 0.1952 - mse: 2.8397 - val_loss: 2.9053 - val_accuracy: 0.2111 - val_mse: 2.9053\n",
      "Epoch 22/30\n",
      "40/40 [==============================] - 7s 183ms/step - loss: 2.8107 - accuracy: 0.1952 - mse: 2.8107 - val_loss: 2.8621 - val_accuracy: 0.2111 - val_mse: 2.8621\n",
      "Epoch 23/30\n",
      "40/40 [==============================] - 7s 184ms/step - loss: 2.8013 - accuracy: 0.1952 - mse: 2.8013 - val_loss: 2.8770 - val_accuracy: 0.2111 - val_mse: 2.8770\n",
      "Epoch 24/30\n",
      "40/40 [==============================] - 7s 186ms/step - loss: 2.7723 - accuracy: 0.1952 - mse: 2.7723 - val_loss: 2.8624 - val_accuracy: 0.2111 - val_mse: 2.8624\n",
      "Epoch 25/30\n",
      "40/40 [==============================] - 7s 185ms/step - loss: 2.7643 - accuracy: 0.1952 - mse: 2.7643 - val_loss: 2.8969 - val_accuracy: 0.2111 - val_mse: 2.8969\n",
      "Epoch 26/30\n",
      "40/40 [==============================] - 7s 186ms/step - loss: 2.7565 - accuracy: 0.1952 - mse: 2.7565 - val_loss: 2.9060 - val_accuracy: 0.2111 - val_mse: 2.9060\n",
      "Epoch 27/30\n",
      "40/40 [==============================] - 7s 187ms/step - loss: 2.7367 - accuracy: 0.1952 - mse: 2.7367 - val_loss: 2.8758 - val_accuracy: 0.2111 - val_mse: 2.8758\n",
      "Epoch 28/30\n",
      "40/40 [==============================] - 7s 189ms/step - loss: 2.7201 - accuracy: 0.1952 - mse: 2.7201 - val_loss: 2.8854 - val_accuracy: 0.2111 - val_mse: 2.8854\n",
      "Epoch 29/30\n",
      "40/40 [==============================] - 10s 241ms/step - loss: 2.7020 - accuracy: 0.1952 - mse: 2.7020 - val_loss: 2.8773 - val_accuracy: 0.2111 - val_mse: 2.8773\n",
      "Epoch 30/30\n",
      "40/40 [==============================] - 9s 215ms/step - loss: 2.7017 - accuracy: 0.1952 - mse: 2.7017 - val_loss: 2.9334 - val_accuracy: 0.2111 - val_mse: 2.9334\n"
     ]
    }
   ],
   "source": [
    "vgg_model_transfer_reg.compile(loss='mean_squared_error', \n",
    "                           optimizer=sgd, \n",
    "                           metrics=['accuracy', 'mse'])\n",
    "\n",
    "history_reg = vgg_model_transfer_reg.fit(X_train_reg, y_train_reg, batch_size=batchSize, epochs=nEpochs, verbose=1, \n",
    "                                 validation_data=(X_valid_reg, y_valid_reg))"
   ]
  },
  {
   "cell_type": "code",
   "execution_count": 165,
   "id": "3e8105d2",
   "metadata": {},
   "outputs": [
    {
     "data": {
      "image/png": "[encoded data removed]",
      "text/plain": [
       "<Figure size 432x288 with 1 Axes>"
      ]
     },
     "metadata": {
      "needs_background": "light"
     },
     "output_type": "display_data"
    }
   ],
   "source": [
    "learn_curve_loss(history_reg)"
   ]
  },
  {
   "cell_type": "markdown",
   "id": "5b64e9a5",
   "metadata": {},
   "source": [
    "The architecture of regression is changed a bit from classification since with the same exact layers; the accuracy and loss across the train and validation sets were stuck in one value so a dense sigmoid layer was added "
   ]
  },
  {
   "cell_type": "markdown",
   "id": "aa7abe4d",
   "metadata": {},
   "source": [
    "### 4.5.4. MSE "
   ]
  },
  {
   "cell_type": "markdown",
   "id": "0b798bf2",
   "metadata": {},
   "source": [
    "#### 4.5.4.1. For train data"
   ]
  },
  {
   "cell_type": "code",
   "execution_count": 166,
   "id": "02c3d5a8",
   "metadata": {},
   "outputs": [
    {
     "name": "stdout",
     "output_type": "stream",
     "text": [
      "2.67392600923787\n"
     ]
    }
   ],
   "source": [
    "y_pred_reg_tr = vgg_model_transfer_reg.predict(X_train_reg)\n",
    "\n",
    "mse_tr = mean_squared_error(y_train_reg, y_pred_reg_tr)\n",
    "print(mse_tr)"
   ]
  },
  {
   "cell_type": "markdown",
   "id": "5b2781b2",
   "metadata": {},
   "source": [
    "#### 4.5.4.2. For validation data"
   ]
  },
  {
   "cell_type": "code",
   "execution_count": 167,
   "id": "de9ea10b",
   "metadata": {},
   "outputs": [
    {
     "name": "stdout",
     "output_type": "stream",
     "text": [
      "2.9333747236434204\n"
     ]
    }
   ],
   "source": [
    "y_pred_reg_v = vgg_model_transfer_reg.predict(X_valid_reg)\n",
    "\n",
    "mse_v = mean_squared_error(y_valid_reg, y_pred_reg_v)\n",
    "print(mse_v)"
   ]
  },
  {
   "cell_type": "markdown",
   "id": "b1146201",
   "metadata": {},
   "source": [
    "#### 4.5.4.3. For Test data"
   ]
  },
  {
   "cell_type": "code",
   "execution_count": 168,
   "id": "ff07eb66",
   "metadata": {},
   "outputs": [
    {
     "name": "stdout",
     "output_type": "stream",
     "text": [
      "2.6983055752895306\n"
     ]
    }
   ],
   "source": [
    "y_reg_t = make_label(20, len(all_arr_test), [1, 2, 3, 4, 6])\n",
    "y_pred_reg_t = vgg_model_transfer_reg.predict(imgs_resize_test)\n",
    "\n",
    "mse_t = mean_squared_error(y_reg_t, y_pred_reg_t)\n",
    "print(mse_t)"
   ]
  },
  {
   "cell_type": "markdown",
   "id": "cd0ba06f",
   "metadata": {},
   "source": [
    "### 4.5.5. Accuracy for the regression by mapping"
   ]
  },
  {
   "cell_type": "code",
   "execution_count": 91,
   "id": "f1fd1af9",
   "metadata": {
    "collapsed": true
   },
   "outputs": [
    {
     "data": {
      "text/plain": [
       "array([1., 1., 1., 1., 1., 1., 1., 1., 1., 1., 1., 1., 1., 1., 1., 1., 1.,\n",
       "       1., 1., 1., 2., 2., 2., 2., 2., 2., 2., 2., 2., 2., 2., 2., 2., 2.,\n",
       "       2., 2., 2., 2., 2., 2., 3., 3., 3., 3., 3., 3., 3., 3., 3., 3., 3.,\n",
       "       3., 3., 3., 3., 3., 3., 3., 3., 3., 4., 4., 4., 4., 4., 4., 4., 4.,\n",
       "       4., 4., 4., 4., 4., 4., 4., 4., 4., 4., 4., 4., 6., 6., 6., 6., 6.,\n",
       "       6., 6., 6., 6., 6., 6., 6., 6., 6., 6., 6., 6., 6., 6., 6.])"
      ]
     },
     "execution_count": 91,
     "metadata": {},
     "output_type": "execute_result"
    }
   ],
   "source": [
    "# y_pred_reg_t\n",
    "# y_reg_map\n",
    "# y_reg_t"
   ]
  },
  {
   "cell_type": "code",
   "execution_count": 169,
   "id": "338be009",
   "metadata": {},
   "outputs": [],
   "source": [
    "y_reg_map = y_pred_reg_t.copy()\n",
    "\n",
    "for idx, pred in enumerate(y_pred_reg_t):\n",
    "  if pred > 0 and pred <= 1:\n",
    "    y_reg_map[idx] = 1  \n",
    "  elif pred > 1 and pred <= 2:\n",
    "    y_reg_map[idx] = 2\n",
    "  elif pred > 2 and pred <= 3:\n",
    "    y_reg_map[idx] = 3\n",
    "  elif pred > 3 and pred <= 4:\n",
    "    y_reg_map[idx] = 4      \n",
    "  elif pred > 4:\n",
    "    y_reg_map[idx] = 6"
   ]
  },
  {
   "cell_type": "code",
   "execution_count": 170,
   "id": "0e2841de",
   "metadata": {},
   "outputs": [
    {
     "data": {
      "text/plain": [
       "0.23"
      ]
     },
     "execution_count": 170,
     "metadata": {},
     "output_type": "execute_result"
    }
   ],
   "source": [
    "accuracy_score(y_reg_t, y_reg_map)"
   ]
  },
  {
   "cell_type": "markdown",
   "id": "5f1d6757",
   "metadata": {},
   "source": [
    "# 4.6. Discussing the performance of 2 models"
   ]
  },
  {
   "cell_type": "markdown",
   "id": "d9c507da",
   "metadata": {},
   "source": [
    "- For the classification model: the model is horribly overfitting; as the train accuracy is 50%-60% while validation accuracy is of 20%. Also, it's apparent from the losses how the validation loss is very high (35 or more), which shows huge overfitting. This is due to the model lack of generalization since it's a very small dataset with large amount of parameters without regularization or augmentation.\n",
    "- On the other hand, for the regression model, we can see high convergence in the training and validation sets when it comes to the mean square error. Nevertheless, if we take a further look to the accuracy of this model whether via mapping or via the model metrics in the history, we can see the model is horribly performing on both the training and validation sets (accuracy of < 20%) which means the model is underfitting and not learning, Same goes for the testing data. We may be decieved at first by the high MSE values but after looking more into the acuuracy we can directly say the model is overfitting.\n",
    "\n",
    "==> Thus we choose to work with the classification model, in order to solve the overfitting of the model via regularization to discover the influence of regularization and augmentation"
   ]
  },
  {
   "cell_type": "markdown",
   "id": "d03b227a",
   "metadata": {},
   "source": [
    "# 5. Regularization\n",
    "## 5.1. Model"
   ]
  },
  {
   "cell_type": "code",
   "execution_count": 173,
   "id": "625efb27",
   "metadata": {},
   "outputs": [],
   "source": [
    "for layer in vgg_model.layers:\n",
    "    layer.trainable = False\n",
    "\n",
    "# last layers output\n",
    "x_drop = vgg_model.layers[6].output\n",
    "\n",
    "# x_drop = BatchNormalization()(x_drop)\n",
    "# x_drop = Dropout(0.5)(x_drop)\n",
    "x_drop = Flatten()(x_drop)\n",
    "##\n",
    "# x_drop = Dropout(0.5)(x_drop)\n",
    "x_drop = BatchNormalization()(x_drop)\n",
    "# x_drop = Dropout(0.5)(x_drop)\n",
    "\n",
    "x_drop = Dense(128, activation='relu')(x_drop)\n",
    "x_drop = BatchNormalization()(x_drop)\n",
    "x_drop = Dropout(0.2)(x_drop)\n",
    "# x_drop = Dense(64, activation='sigmoid')(x_drop)\n",
    "x_drop = Dense(5, activation='softmax')(x_drop) \n",
    "\n",
    "vgg_model_transfer_drop = Model(inputs=vgg_model.input, outputs=x_drop)\n"
   ]
  },
  {
   "cell_type": "markdown",
   "id": "09a44f46",
   "metadata": {},
   "source": [
    "## 5.2. Fit the model"
   ]
  },
  {
   "cell_type": "code",
   "execution_count": 174,
   "id": "c535353f",
   "metadata": {
    "collapsed": true
   },
   "outputs": [
    {
     "name": "stdout",
     "output_type": "stream",
     "text": [
      "Epoch 1/30\n",
      "40/40 [==============================] - 10s 237ms/step - loss: 2.4123 - accuracy: 0.1873 - val_loss: 3.9150 - val_accuracy: 0.1926\n",
      "Epoch 2/30\n",
      "40/40 [==============================] - 9s 223ms/step - loss: 2.3966 - accuracy: 0.2048 - val_loss: 2.9666 - val_accuracy: 0.1852\n",
      "Epoch 3/30\n",
      "40/40 [==============================] - 11s 268ms/step - loss: 2.4441 - accuracy: 0.2111 - val_loss: 2.6532 - val_accuracy: 0.1704\n",
      "Epoch 4/30\n",
      "40/40 [==============================] - 8s 198ms/step - loss: 2.3979 - accuracy: 0.2286 - val_loss: 2.5374 - val_accuracy: 0.1741\n",
      "Epoch 5/30\n",
      "40/40 [==============================] - 9s 220ms/step - loss: 2.3843 - accuracy: 0.2111 - val_loss: 2.4886 - val_accuracy: 0.1815\n",
      "Epoch 6/30\n",
      "40/40 [==============================] - 9s 231ms/step - loss: 2.3997 - accuracy: 0.2032 - val_loss: 2.4651 - val_accuracy: 0.1963\n",
      "Epoch 7/30\n",
      "40/40 [==============================] - 9s 231ms/step - loss: 2.3625 - accuracy: 0.2032 - val_loss: 2.4555 - val_accuracy: 0.1889\n",
      "Epoch 8/30\n",
      "40/40 [==============================] - 10s 242ms/step - loss: 2.3261 - accuracy: 0.2063 - val_loss: 2.4467 - val_accuracy: 0.1852\n",
      "Epoch 9/30\n",
      "40/40 [==============================] - 8s 192ms/step - loss: 2.2743 - accuracy: 0.2381 - val_loss: 2.4405 - val_accuracy: 0.1741\n",
      "Epoch 10/30\n",
      "40/40 [==============================] - 8s 212ms/step - loss: 2.3585 - accuracy: 0.2143 - val_loss: 2.4350 - val_accuracy: 0.1778\n",
      "Epoch 11/30\n",
      "40/40 [==============================] - 8s 211ms/step - loss: 2.3578 - accuracy: 0.2000 - val_loss: 2.4354 - val_accuracy: 0.1852\n",
      "Epoch 12/30\n",
      "40/40 [==============================] - 8s 209ms/step - loss: 2.3964 - accuracy: 0.1889 - val_loss: 2.4319 - val_accuracy: 0.1852\n",
      "Epoch 13/30\n",
      "40/40 [==============================] - 8s 205ms/step - loss: 2.2765 - accuracy: 0.2508 - val_loss: 2.4305 - val_accuracy: 0.1852\n",
      "Epoch 14/30\n",
      "40/40 [==============================] - 9s 231ms/step - loss: 2.3610 - accuracy: 0.2000 - val_loss: 2.4286 - val_accuracy: 0.1852\n",
      "Epoch 15/30\n",
      "40/40 [==============================] - 9s 222ms/step - loss: 2.3093 - accuracy: 0.2143 - val_loss: 2.4270 - val_accuracy: 0.1852\n",
      "Epoch 16/30\n",
      "40/40 [==============================] - 9s 231ms/step - loss: 2.2976 - accuracy: 0.2032 - val_loss: 2.4271 - val_accuracy: 0.1852\n",
      "Epoch 17/30\n",
      "40/40 [==============================] - 10s 239ms/step - loss: 2.3203 - accuracy: 0.2159 - val_loss: 2.4298 - val_accuracy: 0.1852\n",
      "Epoch 18/30\n",
      "40/40 [==============================] - 7s 187ms/step - loss: 2.3372 - accuracy: 0.1952 - val_loss: 2.4306 - val_accuracy: 0.1852\n",
      "Epoch 19/30\n",
      "40/40 [==============================] - 7s 182ms/step - loss: 2.3114 - accuracy: 0.2286 - val_loss: 2.4242 - val_accuracy: 0.1852\n",
      "Epoch 20/30\n",
      "40/40 [==============================] - 7s 182ms/step - loss: 2.3251 - accuracy: 0.2063 - val_loss: 2.4240 - val_accuracy: 0.1852\n",
      "Epoch 21/30\n",
      "40/40 [==============================] - 7s 182ms/step - loss: 2.2530 - accuracy: 0.2175 - val_loss: 2.4236 - val_accuracy: 0.1852\n",
      "Epoch 22/30\n",
      "40/40 [==============================] - 8s 193ms/step - loss: 2.3403 - accuracy: 0.2048 - val_loss: 2.4226 - val_accuracy: 0.1852\n",
      "Epoch 23/30\n",
      "40/40 [==============================] - 7s 187ms/step - loss: 2.3716 - accuracy: 0.2238 - val_loss: 2.4169 - val_accuracy: 0.1852\n",
      "Epoch 24/30\n",
      "40/40 [==============================] - 7s 184ms/step - loss: 2.3152 - accuracy: 0.2222 - val_loss: 2.4148 - val_accuracy: 0.1852\n",
      "Epoch 25/30\n",
      "40/40 [==============================] - 7s 184ms/step - loss: 2.2819 - accuracy: 0.2127 - val_loss: 2.4141 - val_accuracy: 0.1852\n",
      "Epoch 26/30\n",
      "40/40 [==============================] - 7s 181ms/step - loss: 2.3040 - accuracy: 0.2222 - val_loss: 2.4137 - val_accuracy: 0.1852\n",
      "Epoch 27/30\n",
      "40/40 [==============================] - 7s 181ms/step - loss: 2.3098 - accuracy: 0.2254 - val_loss: 2.4093 - val_accuracy: 0.1852\n",
      "Epoch 28/30\n",
      "40/40 [==============================] - 7s 180ms/step - loss: 2.3427 - accuracy: 0.2254 - val_loss: 2.4025 - val_accuracy: 0.1852\n",
      "Epoch 29/30\n",
      "40/40 [==============================] - 7s 182ms/step - loss: 2.2817 - accuracy: 0.2127 - val_loss: 2.4029 - val_accuracy: 0.1852\n",
      "Epoch 30/30\n",
      "40/40 [==============================] - 7s 184ms/step - loss: 2.3540 - accuracy: 0.2190 - val_loss: 2.3980 - val_accuracy: 0.1852\n"
     ]
    }
   ],
   "source": [
    "vgg_model_transfer_drop.compile(loss='sparse_categorical_crossentropy', \n",
    "                           optimizer=sgd, \n",
    "                           metrics=['accuracy'])\n",
    "\n",
    "\n",
    "history_drop = vgg_model_transfer_drop.fit(X_train, y_train, batch_size=batchSize, epochs=nEpochs, verbose=1, \n",
    "                                 validation_data=(X_valid, y_valid))"
   ]
  },
  {
   "cell_type": "markdown",
   "id": "1d61e8db",
   "metadata": {},
   "source": [
    "## 5.3. Learning curve"
   ]
  },
  {
   "cell_type": "code",
   "execution_count": 175,
   "id": "57d3b29b",
   "metadata": {},
   "outputs": [
    {
     "data": {
      "image/png": "[encoded data removed]",
      "text/plain": [
       "<Figure size 432x288 with 1 Axes>"
      ]
     },
     "metadata": {
      "needs_background": "light"
     },
     "output_type": "display_data"
    },
    {
     "data": {
      "image/png": "[encoded data removed]",
      "text/plain": [
       "<Figure size 432x288 with 1 Axes>"
      ]
     },
     "metadata": {
      "needs_background": "light"
     },
     "output_type": "display_data"
    }
   ],
   "source": [
    "learn_curve_accuracy(history_drop)\n",
    "learn_curve_loss(history_drop)"
   ]
  },
  {
   "cell_type": "markdown",
   "id": "465f5474",
   "metadata": {},
   "source": [
    "### 5.4. Confusion Matrix\n",
    "#### 5.4.1. Train Data"
   ]
  },
  {
   "cell_type": "code",
   "execution_count": 176,
   "id": "bff5723d",
   "metadata": {},
   "outputs": [
    {
     "data": {
      "image/png": "[encoded data removed]",
      "text/plain": [
       "<Figure size 432x288 with 2 Axes>"
      ]
     },
     "metadata": {
      "needs_background": "light"
     },
     "output_type": "display_data"
    }
   ],
   "source": [
    "display_labels = [0, 1, 2, 3, 4]\n",
    "y_pred_drop_tr = np.argmax(vgg_model_transfer_drop.predict(X_train), axis = 1)\n",
    "cm1_d_tr = confusion_matrix(y_train, y_pred_drop_tr)\n",
    "plot_confusion(cm1_d_tr, display_labels)"
   ]
  },
  {
   "cell_type": "markdown",
   "id": "606f4987",
   "metadata": {},
   "source": [
    "#### 5.4.2. Validation Data"
   ]
  },
  {
   "cell_type": "code",
   "execution_count": 177,
   "id": "a7c76751",
   "metadata": {},
   "outputs": [
    {
     "data": {
      "image/png": "[encoded data removed]",
      "text/plain": [
       "<Figure size 432x288 with 2 Axes>"
      ]
     },
     "metadata": {
      "needs_background": "light"
     },
     "output_type": "display_data"
    }
   ],
   "source": [
    "y_pred_drop_v = np.argmax(vgg_model_transfer_drop.predict(X_valid), axis = 1)\n",
    "cm1_d_v = confusion_matrix(y_valid, y_pred_drop_v)\n",
    "plot_confusion(cm1_d_v, display_labels)"
   ]
  },
  {
   "cell_type": "markdown",
   "id": "ffade926",
   "metadata": {},
   "source": [
    "#### 5.4.3. Test Data"
   ]
  },
  {
   "cell_type": "code",
   "execution_count": 178,
   "id": "2cbbf970",
   "metadata": {},
   "outputs": [
    {
     "data": {
      "image/png": "[encoded data removed]",
      "text/plain": [
       "<Figure size 432x288 with 2 Axes>"
      ]
     },
     "metadata": {
      "needs_background": "light"
     },
     "output_type": "display_data"
    }
   ],
   "source": [
    "y_pred_drop_t = np.argmax(vgg_model_transfer_drop.predict(imgs_resize_test), axis = 1)\n",
    "cm1_d_t = confusion_matrix(y_t, y_pred_drop_t)\n",
    "plot_confusion(cm1_d_t, display_labels)"
   ]
  },
  {
   "cell_type": "code",
   "execution_count": null,
   "id": "cdc74246",
   "metadata": {},
   "outputs": [],
   "source": []
  },
  {
   "cell_type": "markdown",
   "id": "d45d3011",
   "metadata": {},
   "source": [
    "# 6. Augmentation"
   ]
  },
  {
   "cell_type": "markdown",
   "id": "282b96d0",
   "metadata": {},
   "source": [
    "## 6.1. Model"
   ]
  },
  {
   "cell_type": "code",
   "execution_count": 179,
   "id": "9b968a69",
   "metadata": {},
   "outputs": [],
   "source": [
    "for layer in vgg_model.layers:\n",
    "    layer.trainable = False\n",
    "\n",
    "# last layers output\n",
    "x_drop = vgg_model.layers[6].output\n",
    "\n",
    "# x_drop = BatchNormalization()(x_drop)\n",
    "# x_drop = Dropout(0.5)(x_drop)\n",
    "x_drop = Flatten()(x_drop)\n",
    "##\n",
    "# x_drop = Dropout(0.5)(x_drop)\n",
    "x_drop = BatchNormalization()(x_drop)\n",
    "# x_drop = Dropout(0.5)(x_drop)\n",
    "\n",
    "x_drop = Dense(128, activation='relu')(x_drop)\n",
    "x_drop = BatchNormalization()(x_drop)\n",
    "x_drop = Dropout(0.2)(x_drop)\n",
    "\n",
    "# x_drop = Dense(64, activation='sigmoid')(x_drop)\n",
    "x_drop = Dense(5, activation='softmax')(x_drop) \n",
    "\n",
    "vgg_model_transfer_drop_aug = Model(inputs=vgg_model.input, outputs=x_drop)\n",
    "vgg_model_transfer_drop_aug.compile(loss='categorical_crossentropy', \n",
    "                           optimizer=sgd, \n",
    "                           metrics=['accuracy'])\n"
   ]
  },
  {
   "cell_type": "code",
   "execution_count": null,
   "id": "afdb6869",
   "metadata": {},
   "outputs": [],
   "source": [
    "## Augmentation"
   ]
  },
  {
   "cell_type": "code",
   "execution_count": 180,
   "id": "35f8f52e",
   "metadata": {},
   "outputs": [
    {
     "name": "stdout",
     "output_type": "stream",
     "text": [
      "Found 630 images belonging to 5 classes.\n",
      "Found 270 images belonging to 5 classes.\n"
     ]
    }
   ],
   "source": [
    "batch_size=32 ## 32 images will be created for each image\n",
    "\n",
    "datagen_args = dict(rotation_range=20,\n",
    "    width_shift_range=0.2,\n",
    "    height_shift_range=0.2,\n",
    "    zoom_range=[0.2,0.5],\n",
    "    brightness_range=[0.2,0.8],\n",
    "    horizontal_flip=True,\n",
    "                   rescale=1./255)\n",
    "datagen = ImageDataGenerator(**datagen_args, validation_split = 0.3)\n",
    "train_generator = datagen.flow_from_directory('./training',target_size=(64,64),\n",
    "                                            batch_size=batch_size,interpolation=\"lanczos\",shuffle=True, subset='training')\n",
    "valid_generator = datagen.flow_from_directory('./training',target_size=(64,64),\n",
    "                                            batch_size=batch_size,interpolation=\"lanczos\",shuffle=True, subset='validation')\n"
   ]
  },
  {
   "cell_type": "code",
   "execution_count": null,
   "id": "5fd540ce",
   "metadata": {},
   "outputs": [],
   "source": []
  },
  {
   "cell_type": "code",
   "execution_count": 181,
   "id": "6af7f67f",
   "metadata": {
    "scrolled": true
   },
   "outputs": [
    {
     "name": "stderr",
     "output_type": "stream",
     "text": [
      "C:\\Users\\hosna\\anaconda3\\lib\\site-packages\\keras\\engine\\training.py:1972: UserWarning: `Model.fit_generator` is deprecated and will be removed in a future version. Please use `Model.fit`, which supports generators.\n",
      "  warnings.warn('`Model.fit_generator` is deprecated and '\n"
     ]
    },
    {
     "name": "stdout",
     "output_type": "stream",
     "text": [
      "Epoch 1/30\n",
      "39/39 [==============================] - 17s 414ms/step - loss: 2.2760 - accuracy: 0.2321 - val_loss: 4.5766 - val_accuracy: 0.2045\n",
      "Epoch 2/30\n",
      "39/39 [==============================] - 18s 460ms/step - loss: 2.3189 - accuracy: 0.2248 - val_loss: 3.2285 - val_accuracy: 0.2024\n",
      "Epoch 3/30\n",
      "39/39 [==============================] - 20s 488ms/step - loss: 2.3094 - accuracy: 0.2093 - val_loss: 2.8400 - val_accuracy: 0.1842\n",
      "Epoch 4/30\n",
      "39/39 [==============================] - 20s 507ms/step - loss: 2.3252 - accuracy: 0.1995 - val_loss: 2.6826 - val_accuracy: 0.2166\n",
      "Epoch 5/30\n",
      "39/39 [==============================] - 18s 455ms/step - loss: 2.2699 - accuracy: 0.2296 - val_loss: 2.4492 - val_accuracy: 0.1964\n",
      "Epoch 6/30\n",
      "39/39 [==============================] - 20s 514ms/step - loss: 2.3192 - accuracy: 0.1971 - val_loss: 2.1644 - val_accuracy: 0.2247\n",
      "Epoch 7/30\n",
      "39/39 [==============================] - 22s 554ms/step - loss: 2.3229 - accuracy: 0.2077 - val_loss: 2.2869 - val_accuracy: 0.2146\n",
      "Epoch 8/30\n",
      "39/39 [==============================] - 22s 520ms/step - loss: 2.3284 - accuracy: 0.2027 - val_loss: 2.2494 - val_accuracy: 0.2146\n",
      "Epoch 9/30\n",
      "39/39 [==============================] - 18s 446ms/step - loss: 2.3447 - accuracy: 0.2109 - val_loss: 2.2016 - val_accuracy: 0.2449\n",
      "Epoch 10/30\n",
      "39/39 [==============================] - 18s 444ms/step - loss: 2.4178 - accuracy: 0.1694 - val_loss: 2.0393 - val_accuracy: 0.2166\n",
      "Epoch 11/30\n",
      "39/39 [==============================] - 17s 437ms/step - loss: 2.3251 - accuracy: 0.2199 - val_loss: 2.1677 - val_accuracy: 0.2065\n",
      "Epoch 12/30\n",
      "39/39 [==============================] - 19s 467ms/step - loss: 2.3177 - accuracy: 0.2239 - val_loss: 2.2840 - val_accuracy: 0.2004\n",
      "Epoch 13/30\n",
      "39/39 [==============================] - 18s 454ms/step - loss: 2.3194 - accuracy: 0.2191 - val_loss: 2.3376 - val_accuracy: 0.2146\n",
      "Epoch 14/30\n",
      "39/39 [==============================] - 18s 447ms/step - loss: 2.3463 - accuracy: 0.2142 - val_loss: 2.2178 - val_accuracy: 0.2126\n",
      "Epoch 15/30\n",
      "39/39 [==============================] - 18s 451ms/step - loss: 2.3521 - accuracy: 0.2125 - val_loss: 2.2996 - val_accuracy: 0.2045\n",
      "Epoch 16/30\n",
      "39/39 [==============================] - 20s 503ms/step - loss: 2.3688 - accuracy: 0.1971 - val_loss: 2.0497 - val_accuracy: 0.2571\n",
      "Epoch 17/30\n",
      "39/39 [==============================] - 20s 502ms/step - loss: 2.3089 - accuracy: 0.2125 - val_loss: 2.1150 - val_accuracy: 0.2045\n",
      "Epoch 18/30\n",
      "39/39 [==============================] - 17s 415ms/step - loss: 2.2884 - accuracy: 0.2207 - val_loss: 2.2081 - val_accuracy: 0.1984\n",
      "Epoch 19/30\n",
      "39/39 [==============================] - 17s 416ms/step - loss: 2.2895 - accuracy: 0.2370 - val_loss: 2.2655 - val_accuracy: 0.2024\n",
      "Epoch 20/30\n",
      "39/39 [==============================] - 19s 474ms/step - loss: 2.3066 - accuracy: 0.2207 - val_loss: 2.2920 - val_accuracy: 0.2105\n",
      "Epoch 21/30\n",
      "39/39 [==============================] - 18s 461ms/step - loss: 2.2933 - accuracy: 0.2256 - val_loss: 2.2161 - val_accuracy: 0.2146\n",
      "Epoch 22/30\n",
      "39/39 [==============================] - 17s 425ms/step - loss: 2.3085 - accuracy: 0.2158 - val_loss: 2.1878 - val_accuracy: 0.2105\n",
      "Epoch 23/30\n",
      "39/39 [==============================] - 17s 425ms/step - loss: 2.3326 - accuracy: 0.2296 - val_loss: 2.2073 - val_accuracy: 0.2105\n",
      "Epoch 24/30\n",
      "39/39 [==============================] - 17s 424ms/step - loss: 2.2482 - accuracy: 0.2109 - val_loss: 2.2591 - val_accuracy: 0.2024\n",
      "Epoch 25/30\n",
      "39/39 [==============================] - 18s 447ms/step - loss: 2.3659 - accuracy: 0.2036 - val_loss: 2.1961 - val_accuracy: 0.2206\n",
      "Epoch 26/30\n",
      "39/39 [==============================] - 19s 466ms/step - loss: 2.3220 - accuracy: 0.2101 - val_loss: 2.1934 - val_accuracy: 0.2409\n",
      "Epoch 27/30\n",
      "39/39 [==============================] - 20s 501ms/step - loss: 2.3710 - accuracy: 0.2117 - val_loss: 2.1588 - val_accuracy: 0.2368\n",
      "Epoch 28/30\n",
      "39/39 [==============================] - 19s 484ms/step - loss: 2.2925 - accuracy: 0.2191 - val_loss: 2.0641 - val_accuracy: 0.2308\n",
      "Epoch 29/30\n",
      "39/39 [==============================] - 17s 436ms/step - loss: 2.3310 - accuracy: 0.2213 - val_loss: 2.1606 - val_accuracy: 0.2429\n",
      "Epoch 30/30\n",
      "39/39 [==============================] - 19s 474ms/step - loss: 2.3652 - accuracy: 0.2076 - val_loss: 2.1929 - val_accuracy: 0.2409\n"
     ]
    }
   ],
   "source": [
    "history_aug = vgg_model_transfer_drop_aug.fit_generator(train_generator, \n",
    "                           steps_per_epoch= math.ceil(train_generator.samples//batchSize),\n",
    "                           epochs=nEpochs, validation_data=valid_generator, validation_steps=math.ceil(valid_generator.samples//batchSize), verbose=1, workers=8)\n"
   ]
  },
  {
   "cell_type": "markdown",
   "id": "568fcd2b",
   "metadata": {},
   "source": [
    "### 6.4. Confusion Matrix\n",
    "#### 6.4.1. Train Data"
   ]
  },
  {
   "cell_type": "code",
   "execution_count": 182,
   "id": "28334f81",
   "metadata": {
    "collapsed": true
   },
   "outputs": [
    {
     "data": {
      "image/png": "[encoded data removed]",
      "text/plain": [
       "<Figure size 432x288 with 2 Axes>"
      ]
     },
     "metadata": {
      "needs_background": "light"
     },
     "output_type": "display_data"
    }
   ],
   "source": [
    "display_labels = [0, 1, 2, 3, 4]\n",
    "y_pred_drop_tr = np.argmax(vgg_model_transfer_drop_aug.predict(X_train), axis = 1)\n",
    "cm1_d_tr = confusion_matrix(y_train, y_pred_drop_tr)\n",
    "plot_confusion(cm1_d_tr, display_labels)"
   ]
  },
  {
   "cell_type": "markdown",
   "id": "caaffbea",
   "metadata": {},
   "source": [
    "#### 6.4.2. Validation Data"
   ]
  },
  {
   "cell_type": "code",
   "execution_count": 183,
   "id": "d8acb392",
   "metadata": {},
   "outputs": [
    {
     "data": {
      "image/png": "[encoded data removed]",
      "text/plain": [
       "<Figure size 432x288 with 2 Axes>"
      ]
     },
     "metadata": {
      "needs_background": "light"
     },
     "output_type": "display_data"
    }
   ],
   "source": [
    "y_pred_drop_v = np.argmax(vgg_model_transfer_drop_aug.predict(X_valid), axis = 1)\n",
    "cm1_d_v = confusion_matrix(y_valid, y_pred_drop_v)\n",
    "plot_confusion(cm1_d_v, display_labels)"
   ]
  },
  {
   "cell_type": "markdown",
   "id": "b97232c1",
   "metadata": {},
   "source": [
    "#### 6.4.3. Test Data"
   ]
  },
  {
   "cell_type": "code",
   "execution_count": 184,
   "id": "7b689bcc",
   "metadata": {},
   "outputs": [],
   "source": [
    "y_pred_drop_t = np.argmax(vgg_model_transfer_drop_aug.predict(imgs_resize_test), axis = 1)\n",
    "cm1_d_t = confusion_matrix(y_t, y_pred_drop_t)\n",
    "# plot_confusion(cm1_d_t, display_labels)"
   ]
  },
  {
   "cell_type": "markdown",
   "id": "70d7c593",
   "metadata": {},
   "source": [
    "### 6.5. Learning Curve"
   ]
  },
  {
   "cell_type": "code",
   "execution_count": 185,
   "id": "cde7b9b0",
   "metadata": {},
   "outputs": [
    {
     "data": {
      "image/png": "[encoded data removed]",
      "text/plain": [
       "<Figure size 432x288 with 1 Axes>"
      ]
     },
     "metadata": {
      "needs_background": "light"
     },
     "output_type": "display_data"
    },
    {
     "data": {
      "image/png": "[encoded data removed]",
      "text/plain": [
       "<Figure size 432x288 with 1 Axes>"
      ]
     },
     "metadata": {
      "needs_background": "light"
     },
     "output_type": "display_data"
    }
   ],
   "source": [
    "learn_curve_accuracy(history_aug)\n",
    "learn_curve_loss(history_aug)"
   ]
  },
  {
   "cell_type": "markdown",
   "id": "7339d63c",
   "metadata": {},
   "source": [
    "# 7. Discussion"
   ]
  },
  {
   "cell_type": "markdown",
   "id": "34420bfb",
   "metadata": {},
   "source": [
    "- For regularization, we can observe how magnificent it's in reducing the overfitting, where it reduced the training accuracy to 20% from 60%, and now it's converging with the validation accuracy, also the loss had decreased drastically in case of the validation loss where it decreased from 35 to 2.4. In general, this is the objective of regularization which is to reduce overfitting.\n",
    "- Now for the data augmentation, we can see how it affected the accuracy of the validation data where it made it converge more with the training data which was already good-performing. Moreover, it decreased the loss even more than with the regularization.\n",
    "- Lastly, since the model has way many parameters that were mainly trained on another dataset with another context, it might be better if we retrain the first layers, get larger dataset, or perform more hyperparameter tuning methods along side with the regularization and augmentation methods to enhance the performance. We may also try adjusting the layers more or add other blocks from VGG16\n",
    "- So in short; regularization overcame the huge overfitting and augmentation increased the convergence between the two sets; (Note: the model is biased to 2 classes)"
   ]
  },
  {
   "cell_type": "markdown",
   "id": "e8704ab2",
   "metadata": {},
   "source": [
    "- Aside note, in real life we shouldn't augment the validation data as it should be mimicing the real test data which won't be augmented, but the model didn't work unless the validation data was augmented"
   ]
  },
  {
   "cell_type": "code",
   "execution_count": null,
   "id": "b1f9b80a",
   "metadata": {},
   "outputs": [],
   "source": []
  }
 ],
 "metadata": {
  "kernelspec": {
   "display_name": "Python 3",
   "language": "python",
   "name": "python3"
  },
  "language_info": {
   "codemirror_mode": {
    "name": "ipython",
    "version": 3
   },
   "file_extension": ".py",
   "mimetype": "text/x-python",
   "name": "python",
   "nbconvert_exporter": "python",
   "pygments_lexer": "ipython3",
   "version": "3.8.8"
  }
 },
 "nbformat": 4,
 "nbformat_minor": 5
}
